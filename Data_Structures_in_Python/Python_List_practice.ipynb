{
 "cells": [
  {
   "cell_type": "code",
   "execution_count": 10,
   "metadata": {},
   "outputs": [
    {
     "name": "stdout",
     "output_type": "stream",
     "text": [
      "[1, 2, 3]\n",
      "['akash', 'ashish', 'kiran', 'deepak']\n",
      "['akash', 28, 'ashish', 56, True]\n",
      "sunglasses\n",
      "notebooks\n"
     ]
    }
   ],
   "source": [
    "#List - It is an Ordered sequence of Objects.It is denoted using square brackets i.e [].\n",
    "\n",
    "# Syntax for Creating list\n",
    "list1 = [1,2,3]\n",
    "print(list1)\n",
    "\n",
    "list2 = ['akash', 'ashish', 'kiran' , 'deepak']\n",
    "print(list2)\n",
    "\n",
    "list3 = ['akash',28,'ashish', 56,True]\n",
    "print(list3)\n",
    "\n",
    "# accessing data of list\n",
    "amazon = ['sunglasses','notebooks']\n",
    "print(amazon[0])\n",
    "print(amazon[1])"
   ]
  },
  {
   "cell_type": "code",
   "execution_count": 11,
   "metadata": {},
   "outputs": [
    {
     "name": "stdout",
     "output_type": "stream",
     "text": [
      "notebooks\n"
     ]
    }
   ],
   "source": [
    "#List Slicing \n",
    "\n",
    "amazon_cart = [\n",
    "    'notebooks',\n",
    "    'sunglasses',\n",
    "    'toys',\n",
    "    'grapes'\n",
    "]\n",
    "print(amazon_cart[0])"
   ]
  },
  {
   "cell_type": "code",
   "execution_count": 14,
   "metadata": {},
   "outputs": [
    {
     "name": "stdout",
     "output_type": "stream",
     "text": [
      "['notebooks', 'sunglasses']\n",
      "['notebooks', 'toys']\n"
     ]
    }
   ],
   "source": [
    "# if i want to grab first item to second item\n",
    "print(amazon_cart[0:2])\n",
    "\n",
    "# if i want to grab from 1st item and go till last item by stepping over by 2 \n",
    "print(amazon_cart[0::2])"
   ]
  },
  {
   "cell_type": "code",
   "execution_count": 16,
   "metadata": {},
   "outputs": [
    {
     "name": "stdout",
     "output_type": "stream",
     "text": [
      "['Laptop', 'sunglasses', 'toys', 'grapes']\n",
      "['sunglasses', 'toys']\n"
     ]
    }
   ],
   "source": [
    "amazon_cart[0] = 'Laptop'\n",
    "print(amazon_cart)\n",
    "\n",
    "# print the list from index of item 1 to item 3\n",
    "print(amazon_cart[1:3])\n",
    "\n"
   ]
  },
  {
   "cell_type": "code",
   "execution_count": 17,
   "metadata": {},
   "outputs": [
    {
     "name": "stdout",
     "output_type": "stream",
     "text": [
      "30\n"
     ]
    }
   ],
   "source": [
    "# Matrix are basically used in Machine Learning and Image Processing.\n",
    "# accessing the elements of the matrix.\n",
    "\n",
    "matrix = [\n",
    "    [10,20,30],\n",
    "    [40,50,60],\n",
    "    [70,80,90]\n",
    "]\n",
    "\n",
    "print(matrix[0][2])"
   ]
  },
  {
   "cell_type": "code",
   "execution_count": 18,
   "metadata": {},
   "outputs": [
    {
     "name": "stdout",
     "output_type": "stream",
     "text": [
      "5\n"
     ]
    }
   ],
   "source": [
    "#List Methods\n",
    "\n",
    "#find the length of list\n",
    "basket_list = [1,2,3,4,5]\n",
    "print(len(basket_list))"
   ]
  },
  {
   "cell_type": "code",
   "execution_count": 19,
   "metadata": {},
   "outputs": [
    {
     "name": "stdout",
     "output_type": "stream",
     "text": [
      "[1, 2, 3, 4, 5, 6]\n"
     ]
    }
   ],
   "source": [
    "# append() method is used for adding one elements to list.\n",
    "# It dosen't produce any value, it just adds a value at the end of a list.\n",
    "\n",
    "basket_list.append(6)\n",
    "print(basket_list)"
   ]
  },
  {
   "cell_type": "code",
   "execution_count": 21,
   "metadata": {},
   "outputs": [
    {
     "name": "stdout",
     "output_type": "stream",
     "text": [
      "[1, 2, 3, 4, 5, 6, 200, 'akash']\n"
     ]
    }
   ],
   "source": [
    "# extend() method is used for adding another  list into a list\n",
    "test_list = [200,'akash']\n",
    "basket_list.extend(test_list)\n",
    "print(basket_list)\n"
   ]
  },
  {
   "cell_type": "code",
   "execution_count": 22,
   "metadata": {},
   "outputs": [
    {
     "name": "stdout",
     "output_type": "stream",
     "text": [
      "[1, 2, 50, 3, 4, 5, 6, 200, 'akash']\n"
     ]
    }
   ],
   "source": [
    "# insert() method is used to add a value anywhere in list\n",
    "\n",
    "basket_list.insert(2,50)\n",
    "print(basket_list)"
   ]
  },
  {
   "cell_type": "code",
   "execution_count": 27,
   "metadata": {},
   "outputs": [
    {
     "name": "stdout",
     "output_type": "stream",
     "text": [
      "50\n",
      "None\n",
      "[3, 4, 6]\n"
     ]
    }
   ],
   "source": [
    "# For Removing elements from list, we use pop() method\n",
    "# It pop out what is present at the end of list.\n",
    "# in pop() method, we pass the index whereas in remove() we pass the actual value\n",
    "\n",
    "print(basket_list.pop(0))\n",
    "print(basket_list.remove(5))\n",
    "print(basket_list)"
   ]
  },
  {
   "cell_type": "code",
   "execution_count": 29,
   "metadata": {},
   "outputs": [
    {
     "name": "stdout",
     "output_type": "stream",
     "text": [
      "[]\n"
     ]
    }
   ],
   "source": [
    "# clear() method removes whatever is present in the list\n",
    "basket_list.clear()\n",
    "print(basket_list)"
   ]
  },
  {
   "cell_type": "code",
   "execution_count": 30,
   "metadata": {},
   "outputs": [
    {
     "name": "stdout",
     "output_type": "stream",
     "text": [
      "2\n"
     ]
    }
   ],
   "source": [
    "# get the index of the value\n",
    "basket_list = [1,2,3,4,5]\n",
    "print(basket_list.index(3))"
   ]
  },
  {
   "cell_type": "raw",
   "metadata": {},
   "source": []
  },
  {
   "cell_type": "code",
   "execution_count": 31,
   "metadata": {},
   "outputs": [
    {
     "name": "stdout",
     "output_type": "stream",
     "text": [
      "[1, 2, 3, 4, 5, 6, 7, 8, 9, 10, 11, 12, 13, 14, 15, 16, 17, 18, 19, 20, 21, 22, 23, 24, 25, 26, 27, 28, 29, 30, 31, 32, 33, 34, 35, 36, 37, 38, 39, 40, 41, 42, 43, 44, 45, 46, 47, 48, 49, 50, 51, 52, 53, 54, 55, 56, 57, 58, 59, 60, 61, 62, 63, 64, 65, 66, 67, 68, 69, 70, 71, 72, 73, 74, 75, 76, 77, 78, 79, 80, 81, 82, 83, 84, 85, 86, 87, 88, 89, 90, 91, 92, 93, 94, 95, 96, 97, 98, 99]\n"
     ]
    }
   ],
   "source": [
    "# range \n",
    "\n",
    "print(list(range(1,100)))"
   ]
  },
  {
   "cell_type": "code",
   "execution_count": null,
   "metadata": {},
   "outputs": [],
   "source": []
  }
 ],
 "metadata": {
  "kernelspec": {
   "display_name": "Python 3",
   "language": "python",
   "name": "python3"
  },
  "language_info": {
   "codemirror_mode": {
    "name": "ipython",
    "version": 3
   },
   "file_extension": ".py",
   "mimetype": "text/x-python",
   "name": "python",
   "nbconvert_exporter": "python",
   "pygments_lexer": "ipython3",
   "version": "3.7.6"
  }
 },
 "nbformat": 4,
 "nbformat_minor": 4
}
