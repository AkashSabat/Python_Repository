{
 "cells": [
  {
   "cell_type": "code",
   "execution_count": 1,
   "metadata": {},
   "outputs": [],
   "source": [
    "# Dictionaries\n",
    "# A Dictionary is an unordered key-value pair.\n",
    "# Data in dictionary is stored in key value pair\n",
    "\n",
    "# Understanding Data Structures in Python\n",
    "# A good programmer knows when to use which data structures.\n"
   ]
  },
  {
   "cell_type": "code",
   "execution_count": 5,
   "metadata": {},
   "outputs": [
    {
     "name": "stdout",
     "output_type": "stream",
     "text": [
      "{'a': 1, 'b': 2}\n",
      "2\n"
     ]
    }
   ],
   "source": [
    "# creating dictionaries\n",
    "\n",
    "dictionary = {\n",
    "    'a' : 1,\n",
    "    'b' : 2\n",
    "}\n",
    "\n",
    "print(dictionary)\n",
    "print(dictionary['b'])"
   ]
  },
  {
   "cell_type": "code",
   "execution_count": 8,
   "metadata": {},
   "outputs": [
    {
     "name": "stdout",
     "output_type": "stream",
     "text": [
      "30\n",
      "hello\n",
      "True\n"
     ]
    }
   ],
   "source": [
    "dictionary1 = {\n",
    "    'a' : [10,20,30],\n",
    "    'b' : 'hello',\n",
    "    'c' : True\n",
    "}\n",
    "print(dictionary1['a'][2])\n",
    "print(dictionary1['b'])\n",
    "print(dictionary1['c'])"
   ]
  },
  {
   "cell_type": "code",
   "execution_count": 9,
   "metadata": {},
   "outputs": [
    {
     "name": "stdout",
     "output_type": "stream",
     "text": [
      "30\n",
      "False\n"
     ]
    }
   ],
   "source": [
    "my_list =[\n",
    "    {\n",
    "    'a' : [10,20,30],\n",
    "    'b' : 'hello',\n",
    "    'c' : True\n",
    "},\n",
    "    {\n",
    "    'a' : [40,50,60],\n",
    "    'b' : 'hello1',\n",
    "    'c' : False\n",
    "}\n",
    "]\n",
    "print(my_list[0]['a'][2])\n",
    "print(my_list[1]['c'])"
   ]
  },
  {
   "cell_type": "code",
   "execution_count": 10,
   "metadata": {},
   "outputs": [],
   "source": [
    "# Dictionaries values can hold any sort of data i.e int, string, boolean etc\n",
    "\n",
    "# what about dictionary keys?\n",
    "# A key needs to be immutable. A key cannot be changed.\n",
    "# A dictionary key should be unique."
   ]
  },
  {
   "cell_type": "code",
   "execution_count": 12,
   "metadata": {},
   "outputs": [
    {
     "name": "stdout",
     "output_type": "stream",
     "text": [
      "3\n",
      "hello\n"
     ]
    }
   ],
   "source": [
    "dictionary2 = {\n",
    "    123 : [1,2,3],\n",
    "    True : 'hello'\n",
    "}\n",
    "print(dictionary2[123][2])\n",
    "print(dictionary2[True])"
   ]
  },
  {
   "cell_type": "code",
   "execution_count": 13,
   "metadata": {},
   "outputs": [],
   "source": [
    "# Dictionary methods\n",
    "\n",
    "#.get method "
   ]
  },
  {
   "cell_type": "code",
   "execution_count": 31,
   "metadata": {},
   "outputs": [
    {
     "name": "stdout",
     "output_type": "stream",
     "text": [
      "55\n",
      "True\n",
      "False\n",
      "True\n",
      "True\n",
      "dict_items([('basket', [10, 20, 30]), ('greet', 'hello')])\n",
      "None\n",
      "{}\n",
      "{'basket': [10, 20, 30], 'greet': 'hello'}\n",
      "hello\n",
      "{'basket': [10, 20, 30]}\n",
      "None\n",
      "{'basket': [10, 20, 30], 'age': 55}\n"
     ]
    }
   ],
   "source": [
    "user = {\n",
    "    'basket' : [10,20,30],\n",
    "    'greet' : 'hello'\n",
    "}\n",
    "print(user.get('age',55))\n",
    "print('basket' in user)\n",
    "print('name' in user)\n",
    "print('basket' in user.keys())\n",
    "print('hello' in user.values())\n",
    "print(user.items())\n",
    "print(user.clear())\n",
    "print(user)\n",
    "\n",
    "user = {\n",
    "    'basket' : [10,20,30],\n",
    "    'greet' : 'hello'\n",
    "}\n",
    "user1 = user.copy()\n",
    "print(user1)\n",
    "print(user1.pop('greet'))\n",
    "print(user1)\n",
    "print(user1.update({'age' :55}))\n",
    "print(user1)"
   ]
  },
  {
   "cell_type": "code",
   "execution_count": null,
   "metadata": {},
   "outputs": [],
   "source": []
  }
 ],
 "metadata": {
  "kernelspec": {
   "display_name": "Python 3",
   "language": "python",
   "name": "python3"
  },
  "language_info": {
   "codemirror_mode": {
    "name": "ipython",
    "version": 3
   },
   "file_extension": ".py",
   "mimetype": "text/x-python",
   "name": "python",
   "nbconvert_exporter": "python",
   "pygments_lexer": "ipython3",
   "version": "3.7.6"
  }
 },
 "nbformat": 4,
 "nbformat_minor": 4
}
