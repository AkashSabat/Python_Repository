{
 "cells": [
  {
   "cell_type": "code",
   "execution_count": 1,
   "metadata": {},
   "outputs": [],
   "source": [
    "# Tuple\n",
    "# A tuple are like list but unlike list we cannot modify them i.e a immutable list.\n",
    "# we cannot modify after creating a tuple.\n",
    "# Tuple are faster than list."
   ]
  },
  {
   "cell_type": "code",
   "execution_count": 3,
   "metadata": {},
   "outputs": [
    {
     "name": "stdout",
     "output_type": "stream",
     "text": [
      "1\n",
      "True\n"
     ]
    }
   ],
   "source": [
    "my_tuple = (1,2,3,4,5,6)\n",
    "print(my_tuple[0])\n",
    "print(5 in my_tuple)"
   ]
  },
  {
   "cell_type": "code",
   "execution_count": 6,
   "metadata": {},
   "outputs": [
    {
     "name": "stdout",
     "output_type": "stream",
     "text": [
      "(1, 2, 3, 4, 5, 6)\n",
      "6\n"
     ]
    }
   ],
   "source": [
    "# slicing tuple\n",
    "new_tuple = my_tuple[:]\n",
    "print(new_tuple)\n",
    "print(len(new_tuple))"
   ]
  },
  {
   "cell_type": "code",
   "execution_count": 7,
   "metadata": {},
   "outputs": [],
   "source": [
    "# Set \n",
    "# Set are unordered collection of unique objects.\n",
    "# set are stored in one location in memory.\n",
    "# set dosen't support indexing\n",
    "\n",
    "\n"
   ]
  },
  {
   "cell_type": "code",
   "execution_count": 10,
   "metadata": {},
   "outputs": [
    {
     "name": "stdout",
     "output_type": "stream",
     "text": [
      "{1, 2, 3, 4, 5, 6, 100}\n"
     ]
    }
   ],
   "source": [
    "my_set = {\n",
    "    1,2,3,4,4,5,6\n",
    "}\n",
    "my_set.add(100)\n",
    "my_set.add(2)\n",
    "print(my_set)"
   ]
  },
  {
   "cell_type": "code",
   "execution_count": 11,
   "metadata": {},
   "outputs": [
    {
     "name": "stdout",
     "output_type": "stream",
     "text": [
      "{1, 2, 3, 4, 5, 6}\n"
     ]
    }
   ],
   "source": [
    "# converting a list to a set with unique values.\n",
    "\n",
    "my_list = {\n",
    "    1,2,3,4,4,5,6\n",
    "}\n",
    "print(set(my_list))"
   ]
  },
  {
   "cell_type": "code",
   "execution_count": 12,
   "metadata": {},
   "outputs": [],
   "source": [
    "# Set Methods\n",
    "\n"
   ]
  },
  {
   "cell_type": "code",
   "execution_count": 13,
   "metadata": {},
   "outputs": [
    {
     "name": "stdout",
     "output_type": "stream",
     "text": [
      "{1, 2, 3}\n"
     ]
    }
   ],
   "source": [
    "# 1) difference\n",
    "my_set ={1,2,3,4,5}\n",
    "your_set = {4,5,6,7,8,9,10}\n",
    "print(my_set.difference(your_set))"
   ]
  },
  {
   "cell_type": "code",
   "execution_count": 14,
   "metadata": {},
   "outputs": [
    {
     "name": "stdout",
     "output_type": "stream",
     "text": [
      "None\n",
      "{1, 2, 3, 4}\n"
     ]
    }
   ],
   "source": [
    "# 2) discard\n",
    "my_set ={1,2,3,4,5}\n",
    "your_set = {4,5,6,7,8,9,10}\n",
    "print(my_set.discard(5))\n",
    "print(my_set)"
   ]
  },
  {
   "cell_type": "code",
   "execution_count": 15,
   "metadata": {},
   "outputs": [
    {
     "name": "stdout",
     "output_type": "stream",
     "text": [
      "None\n",
      "{1, 2, 3}\n"
     ]
    }
   ],
   "source": [
    "# 3) difference_update (differences are removed)\n",
    "my_set ={1,2,3,4,5}\n",
    "your_set = {4,5,6,7,8,9,10}\n",
    "print(my_set.difference_update(your_set))\n",
    "print(my_set)\n"
   ]
  },
  {
   "cell_type": "code",
   "execution_count": 16,
   "metadata": {},
   "outputs": [
    {
     "name": "stdout",
     "output_type": "stream",
     "text": [
      "{4, 5}\n",
      "{1, 2, 3, 4, 5}\n"
     ]
    }
   ],
   "source": [
    "# 4) intersection\n",
    "my_set ={1,2,3,4,5}\n",
    "your_set = {4,5,6,7,8,9,10}\n",
    "print(my_set.intersection(your_set))\n",
    "print(my_set)"
   ]
  },
  {
   "cell_type": "code",
   "execution_count": 17,
   "metadata": {},
   "outputs": [
    {
     "name": "stdout",
     "output_type": "stream",
     "text": [
      "False\n",
      "{1, 2, 3, 4, 5}\n"
     ]
    }
   ],
   "source": [
    "# 5) isdisjoint\n",
    "my_set ={1,2,3,4,5}\n",
    "your_set = {4,5,6,7,8,9,10}\n",
    "print(my_set.isdisjoint(your_set))\n",
    "print(my_set)"
   ]
  },
  {
   "cell_type": "code",
   "execution_count": 18,
   "metadata": {},
   "outputs": [
    {
     "name": "stdout",
     "output_type": "stream",
     "text": [
      "{1, 2, 3, 4, 5, 6, 7, 8, 9, 10}\n",
      "{1, 2, 3, 4, 5}\n"
     ]
    }
   ],
   "source": [
    "# 6) union\n",
    "my_set ={1,2,3,4,5}\n",
    "your_set = {4,5,6,7,8,9,10}\n",
    "print(my_set.union(your_set))\n",
    "print(my_set)"
   ]
  },
  {
   "cell_type": "code",
   "execution_count": 22,
   "metadata": {},
   "outputs": [
    {
     "name": "stdout",
     "output_type": "stream",
     "text": [
      "True\n",
      "{4, 5}\n"
     ]
    }
   ],
   "source": [
    "# 7) issubset\n",
    "my_set ={4,5}\n",
    "your_set = {4,5,6,7,8,9,10}\n",
    "print(my_set.issubset(your_set))\n",
    "print(my_set)"
   ]
  },
  {
   "cell_type": "code",
   "execution_count": 23,
   "metadata": {},
   "outputs": [
    {
     "name": "stdout",
     "output_type": "stream",
     "text": [
      "True\n",
      "{4, 5}\n"
     ]
    }
   ],
   "source": [
    "# 8) issuperset\n",
    "my_set ={4,5}\n",
    "your_set = {4,5,6,7,8,9,10}\n",
    "print(your_set.issuperset(my_set))\n",
    "print(my_set)"
   ]
  },
  {
   "cell_type": "code",
   "execution_count": null,
   "metadata": {},
   "outputs": [],
   "source": []
  }
 ],
 "metadata": {
  "kernelspec": {
   "display_name": "Python 3",
   "language": "python",
   "name": "python3"
  },
  "language_info": {
   "codemirror_mode": {
    "name": "ipython",
    "version": 3
   },
   "file_extension": ".py",
   "mimetype": "text/x-python",
   "name": "python",
   "nbconvert_exporter": "python",
   "pygments_lexer": "ipython3",
   "version": "3.7.6"
  }
 },
 "nbformat": 4,
 "nbformat_minor": 4
}
